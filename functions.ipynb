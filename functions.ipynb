{
 "cells": [
  {
   "cell_type": "markdown",
   "metadata": {},
   "source": [
    "A function is a reusable block of code or programming statements designed to perform a certain task. To define or declare a function, Python provides the def keyword. The following is the syntax for defining a function. The function block of code is executed only if the function is called or invoked."
   ]
  },
  {
   "cell_type": "markdown",
   "metadata": {},
   "source": [
    "# Declaring a function\n",
    "def function_name():\n",
    "    codes\n",
    "    codes\n",
    "# Calling a function\n",
    "function_name()"
   ]
  },
  {
   "cell_type": "code",
   "execution_count": 1,
   "metadata": {},
   "outputs": [
    {
     "name": "stdout",
     "output_type": "stream",
     "text": [
      "Ade Grace\n"
     ]
    }
   ],
   "source": [
    "# functions without parameters\n",
    "def print_full_name():\n",
    "    first_name = 'Ade'\n",
    "    last_name = 'Grace'\n",
    "    full_name = f\"{first_name} {last_name}\"\n",
    "    print(full_name)\n",
    "\n",
    "print_full_name()"
   ]
  },
  {
   "cell_type": "code",
   "execution_count": 5,
   "metadata": {},
   "outputs": [
    {
     "name": "stdout",
     "output_type": "stream",
     "text": [
      "Ade Grace\n"
     ]
    }
   ],
   "source": [
    "print_full_name()"
   ]
  },
  {
   "cell_type": "markdown",
   "metadata": {},
   "source": [
    "functions are meant to return values not print statements"
   ]
  },
  {
   "cell_type": "code",
   "execution_count": 8,
   "metadata": {},
   "outputs": [
    {
     "data": {
      "text/plain": [
       "2"
      ]
     },
     "execution_count": 8,
     "metadata": {},
     "output_type": "execute_result"
    }
   ],
   "source": [
    "# functions that return a value\n",
    "def difference_of_two_numbers():\n",
    "    num_one = 5\n",
    "    num_two = 3\n",
    "    difference = num_one - num_two\n",
    "    return difference\n",
    "\n",
    "difference_of_two_numbers()"
   ]
  },
  {
   "cell_type": "markdown",
   "metadata": {},
   "source": [
    "### difference between parameter and arguments\n",
    "A parameter is a value you use a placeholder when creating your function while an argument is the value passed when calling a function.\n",
    "most people use them interchangeable."
   ]
  },
  {
   "cell_type": "markdown",
   "metadata": {},
   "source": [
    "# Declaring a function\n",
    "  def function_name(parameter):\n",
    "    codes\n",
    "    codes\n",
    "  # Calling function\n",
    "  print(function_name(argument))"
   ]
  },
  {
   "cell_type": "markdown",
   "metadata": {},
   "source": [
    "# Declaring a function\n",
    "  def function_name(para1, para2):\n",
    "    codes\n",
    "    codes\n",
    "  # Calling function\n",
    "  print(function_name(arg1, arg2))"
   ]
  },
  {
   "cell_type": "code",
   "execution_count": 15,
   "metadata": {},
   "outputs": [
    {
     "data": {
      "text/plain": [
       "'Bolu Temi Grace'"
      ]
     },
     "execution_count": 15,
     "metadata": {},
     "output_type": "execute_result"
    }
   ],
   "source": [
    "# functions with parameters\n",
    "# order is important\n",
    "\n",
    "def print_names(first_name, middle_name, last_name):\n",
    "    # to full name of user\n",
    "    # para1 = first name\n",
    "    full_name = f\"{first_name} {middle_name} {last_name}\"\n",
    "    return full_name\n",
    "\n",
    "print_names('Bolu', 'Temi', 'Grace')"
   ]
  },
  {
   "cell_type": "markdown",
   "metadata": {},
   "source": [
    "# Declaring a function\n",
    "def function_name(para1, para2):\n",
    "    codes\n",
    "    codes\n",
    "# Calling function\n",
    "print(function_name(para1 = 'John', para2 = 'Doe')) "
   ]
  },
  {
   "cell_type": "code",
   "execution_count": 16,
   "metadata": {},
   "outputs": [
    {
     "data": {
      "text/plain": [
       "'John Alli Doe'"
      ]
     },
     "execution_count": 16,
     "metadata": {},
     "output_type": "execute_result"
    }
   ],
   "source": [
    "# functions using key and value\n",
    "# order doesn't matter\n",
    "print_names(first_name='John', last_name='Doe', middle_name='Alli')"
   ]
  },
  {
   "cell_type": "code",
   "execution_count": 19,
   "metadata": {},
   "outputs": [
    {
     "data": {
      "text/plain": [
       "110"
      ]
     },
     "execution_count": 19,
     "metadata": {},
     "output_type": "execute_result"
    }
   ],
   "source": [
    "def add_fifty(number):\n",
    "    # adds 50 to any number\n",
    "    new_value = number + 50\n",
    "    return new_value\n",
    "\n",
    "add_fifty(60)"
   ]
  },
  {
   "cell_type": "code",
   "execution_count": 23,
   "metadata": {},
   "outputs": [
    {
     "data": {
      "text/plain": [
       "64"
      ]
     },
     "execution_count": 23,
     "metadata": {},
     "output_type": "execute_result"
    }
   ],
   "source": [
    "def square_number(number):\n",
    "    squared = number * number\n",
    "    return squared\n",
    "\n",
    "square_number(8)"
   ]
  },
  {
   "cell_type": "code",
   "execution_count": 24,
   "metadata": {},
   "outputs": [
    {
     "name": "stdout",
     "output_type": "stream",
     "text": [
      "25\n"
     ]
    }
   ],
   "source": [
    "# raise any number to the power of 2\n",
    "\n",
    "number = 5\n",
    "raise_power = 5 ** 2\n",
    "print(raise_power)\n"
   ]
  },
  {
   "cell_type": "code",
   "execution_count": 26,
   "metadata": {},
   "outputs": [
    {
     "data": {
      "text/plain": [
       "100"
      ]
     },
     "execution_count": 26,
     "metadata": {},
     "output_type": "execute_result"
    }
   ],
   "source": [
    "def raise_power_of_two(number):\n",
    "    raise_power = number**2\n",
    "    return raise_power\n",
    "\n",
    "\n",
    "raise_power_of_two(10)"
   ]
  },
  {
   "cell_type": "code",
   "execution_count": 27,
   "metadata": {},
   "outputs": [
    {
     "data": {
      "text/plain": [
       "125"
      ]
     },
     "execution_count": 27,
     "metadata": {},
     "output_type": "execute_result"
    }
   ],
   "source": [
    "def raise_power_any(number, power):\n",
    "    raise_power = number ** power\n",
    "    return raise_power\n",
    "\n",
    "raise_power_any(5, 3)"
   ]
  },
  {
   "cell_type": "code",
   "execution_count": 28,
   "metadata": {},
   "outputs": [
    {
     "name": "stdout",
     "output_type": "stream",
     "text": [
      "4\n",
      "10\n",
      "12\n"
     ]
    }
   ],
   "source": [
    "values = [2, 5, 6]\n",
    "\n",
    "for value in values:\n",
    "    new_val = value * 2\n",
    "    print(new_val)"
   ]
  },
  {
   "cell_type": "code",
   "execution_count": 35,
   "metadata": {},
   "outputs": [
    {
     "data": {
      "text/plain": [
       "[14, 16, 18, 46, 10, 46, 4]"
      ]
     },
     "execution_count": 35,
     "metadata": {},
     "output_type": "execute_result"
    }
   ],
   "source": [
    "def multiply_by_two(list_values):\n",
    "    vals = []\n",
    "    for value in list_values:\n",
    "        new_val = value * 2\n",
    "        vals.append(new_val)\n",
    "    return vals\n",
    "\n",
    "multiply_by_two([7, 8,9,23,5,23,2])"
   ]
  },
  {
   "cell_type": "markdown",
   "metadata": {},
   "source": [
    "# syntax\n",
    "# Declaring a function\n",
    "def function_name(param = value):\n",
    "    codes\n",
    "    codes\n",
    "# Calling function\n",
    "function_name()\n",
    "function_name(arg)"
   ]
  },
  {
   "cell_type": "code",
   "execution_count": 36,
   "metadata": {},
   "outputs": [
    {
     "data": {
      "text/plain": [
       "'Abuja'"
      ]
     },
     "execution_count": 36,
     "metadata": {},
     "output_type": "execute_result"
    }
   ],
   "source": [
    "#functions with default parameters\n",
    "def print_location(location='Abuja'):\n",
    "    return location\n",
    "\n",
    "print_location()"
   ]
  },
  {
   "cell_type": "code",
   "execution_count": 37,
   "metadata": {},
   "outputs": [
    {
     "data": {
      "text/plain": [
       "'My name is Grace Jone. I live in Lagos'"
      ]
     },
     "execution_count": 37,
     "metadata": {},
     "output_type": "execute_result"
    }
   ],
   "source": [
    "def bio_data(first_name, last_name, location='Lagos'):\n",
    "    data = f\"My name is {first_name} {last_name}. I live in {location}\"\n",
    "    return data\n",
    "\n",
    "bio_data('Grace', 'Jone')"
   ]
  },
  {
   "cell_type": "code",
   "execution_count": 39,
   "metadata": {},
   "outputs": [
    {
     "data": {
      "text/plain": [
       "False"
      ]
     },
     "execution_count": 39,
     "metadata": {},
     "output_type": "execute_result"
    }
   ],
   "source": [
    "# function as a parameter of other function\n",
    "def square_of_number(value):\n",
    "    return value * value\n",
    "\n",
    "def is_even(func, value):\n",
    "    squared = func(value)\n",
    "    if squared % 2 == 0:\n",
    "        print('even')\n",
    "        return True\n",
    "    else:\n",
    "        return False\n",
    "\n",
    "is_even(square_of_number, 7)"
   ]
  },
  {
   "cell_type": "markdown",
   "metadata": {},
   "source": [
    "## exercise\n",
    "1. Area of a circle is calculated as follows: area = π x r x r. Write a function that calculates area_of_circle.\n",
    "2. write a function that calculates mean\n",
    "3. Temperature in °C can be converted to °F using this formula: °F = (°C x 9/5) + 32. Write a function which converts °C to °F, convert_celsius_to-fahrenheit.\n",
    "4. Write a function called check-season, it takes a month parameter and returns the season: Autumn, Winter, Spring or Summer.\n",
    "5. write a function to find an odd number\n",
    "6. How to pass arbitary number of arguments\n",
    "7. keyword arguments"
   ]
  }
 ],
 "metadata": {
  "kernelspec": {
   "display_name": "Python 3.9.7 ('base')",
   "language": "python",
   "name": "python3"
  },
  "language_info": {
   "codemirror_mode": {
    "name": "ipython",
    "version": 3
   },
   "file_extension": ".py",
   "mimetype": "text/x-python",
   "name": "python",
   "nbconvert_exporter": "python",
   "pygments_lexer": "ipython3",
   "version": "3.9.7"
  },
  "orig_nbformat": 4,
  "vscode": {
   "interpreter": {
    "hash": "c52f21c0e45e43aaae613551711b1456b3c8683bbdae05cd409751d45cdf7d30"
   }
  }
 },
 "nbformat": 4,
 "nbformat_minor": 2
}
